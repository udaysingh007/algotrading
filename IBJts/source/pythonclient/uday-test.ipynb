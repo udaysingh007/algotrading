{
 "cells": [
  {
   "cell_type": "code",
   "execution_count": null,
   "id": "66efab6f-0dcb-476f-9cd0-441003b9aa0a",
   "metadata": {},
   "outputs": [],
   "source": [
    "!pip install pandas"
   ]
  },
  {
   "cell_type": "code",
   "execution_count": 3,
   "id": "d5ad3d08-61d2-42fc-a66b-ba95dca7c678",
   "metadata": {},
   "outputs": [
    {
     "name": "stdout",
     "output_type": "stream",
     "text": [
      "TWS API version: 10.27.1\n"
     ]
    }
   ],
   "source": [
    "import ibapi\n",
    "\n",
    "print(\"TWS API version:\", ibapi.__version__)"
   ]
  },
  {
   "cell_type": "code",
   "execution_count": 5,
   "id": "6b7f003b-02a1-4b93-9c0a-3eec1195a5d5",
   "metadata": {},
   "outputs": [
    {
     "data": {
      "text/plain": [
       "<IB connected to 127.0.0.1:7497 clientId=1>"
      ]
     },
     "execution_count": 5,
     "metadata": {},
     "output_type": "execute_result"
    }
   ],
   "source": [
    "from ib_insync import *\n",
    "\n",
    "HOST = \"127.0.0.1\"\n",
    "PORT = 7497\n",
    "CLIENT_ID = 1\n",
    "\n",
    "util.startLoop() # Starts loop that allows us to work with the API in Jupyter notebooks – this is not necessary in a script\n",
    "ib_client = IB() # Creates an instance of the IB client class\n",
    "ib_client.connect(HOST, PORT, CLIENT_ID) # Connects to TWS"
   ]
  },
  {
   "cell_type": "code",
   "execution_count": 9,
   "id": "60549e2b-3c91-4bc3-84b8-4dac2f61df79",
   "metadata": {},
   "outputs": [
    {
     "name": "stdout",
     "output_type": "stream",
     "text": [
      "Account currently signed in to TWS is: AccountValue(account='DU8500926', tag='AccountType', value='INDIVIDUAL', currency='', modelCode='')\n"
     ]
    }
   ],
   "source": [
    "# Retrieve account summary for currently signed in user\n",
    "\n",
    "accounts = ib_client.accountSummary()\n",
    "print(f\"Account currently signed in to TWS is: {accounts[0]}\")"
   ]
  },
  {
   "cell_type": "code",
   "execution_count": 10,
   "id": "b62c5158-ac45-4282-ac6a-3941cfd6ce6d",
   "metadata": {},
   "outputs": [
    {
     "name": "stdout",
     "output_type": "stream",
     "text": [
      "Full contract details for EURUSD: [ContractDetails(contract=Contract(secType='CASH', conId=12087792, symbol='EUR', exchange='IDEALPRO', currency='USD', localSymbol='EUR.USD', tradingClass='EUR.USD'), marketName='EUR.USD', minTick=5e-05, orderTypes='ACTIVETIM,AD,ADJUST,ALERT,ALGO,ALLOC,AVGCOST,BASKET,CASHQTY,COND,CONDORDER,DAY,DEACT,DEACTDIS,DEACTEOD,GAT,GTC,GTD,GTT,HID,IOC,LIT,LMT,MIT,MKT,NONALGO,OCA,REL,RELPCTOFS,SCALE,SCALERST,STP,STPLMT,TRAIL,TRAILLIT,TRAILLMT,TRAILMIT,WHATIF', validExchanges='IDEALPRO', priceMagnifier=1, underConId=0, longName='European Monetary Union Euro', contractMonth='', industry='', category='', subcategory='', timeZoneId='US/Eastern', tradingHours='20240130:1715-20240131:1700;20240131:1715-20240201:1700;20240201:1715-20240202:1700;20240203:CLOSED;20240204:1715-20240205:1700;20240205:1715-20240206:1700', liquidHours='20240130:1715-20240131:1700;20240131:1715-20240201:1700;20240201:1715-20240202:1700;20240203:CLOSED;20240204:1715-20240205:1700;20240205:1715-20240206:1700', evRule='', evMultiplier=0, mdSizeMultiplier=1, aggGroup=4, underSymbol='', underSecType='', marketRuleIds='3188', secIdList=[], realExpirationDate='', lastTradeTime='', stockType='', minSize=0.01, sizeIncrement=0.01, suggestedSizeIncrement=0.01, cusip='', ratings='', descAppend='', bondType='', couponType='', callable=False, putable=False, coupon=0, convertible=False, maturity='', issueDate='', nextOptionDate='', nextOptionType='', nextOptionPartial=False, notes='')]\n",
      "\n",
      "Full contract details for AAPL stock: [ContractDetails(contract=Contract(secType='STK', conId=265598, symbol='AAPL', exchange='NASDAQ', primaryExchange='NASDAQ', currency='USD', localSymbol='AAPL', tradingClass='NMS'), marketName='NMS', minTick=0.01, orderTypes='ACTIVETIM,AD,ADJUST,ALERT,ALLOC,AON,AVGCOST,BASKET,BENCHPX,CASHQTY,COND,CONDORDER,DAY,DEACT,DEACTDIS,DEACTEOD,DIS,GAT,GTC,GTD,GTT,HID,IOC,LIT,LMT,LOC,MIT,MKT,MOC,MTL,NGCOMB,NONALGO,OCA,OPG,PEGBENCH,RELPCTOFS,RTH,SCALE,SCALERST,SNAPMID,SNAPMKT,SNAPREL,STP,STPLMT,TRAIL,TRAILLIT,TRAILLMT,TRAILMIT,WHATIF', validExchanges='SMART,AMEX,NYSE,CBOE,PHLX,ISE,CHX,ARCA,NASDAQ,DRCTEDGE,BEX,BATS,EDGEA,BYX,IEX,EDGX,FOXRIVER,PEARL,NYSENAT,LTSE,MEMX,IBEOS,OVERNIGHT,PSX', priceMagnifier=1, underConId=0, longName='APPLE INC', contractMonth='', industry='Technology', category='Computers', subcategory='Computers', timeZoneId='US/Eastern', tradingHours='20240131:0400-20240131:2000;20240201:0400-20240201:2000;20240202:0400-20240202:2000;20240203:CLOSED;20240204:CLOSED;20240205:0400-20240205:2000', liquidHours='20240131:0930-20240131:1600;20240201:0930-20240201:1600;20240202:0930-20240202:1600;20240203:CLOSED;20240204:CLOSED;20240205:0930-20240205:1600', evRule='', evMultiplier=0, mdSizeMultiplier=1, aggGroup=1, underSymbol='', underSecType='', marketRuleIds='26,26,26,26,26,26,26,26,26,26,26,26,26,26,26,26,26,26,26,26,26,26,26,26', secIdList=[TagValue(tag='ISIN', value='US0378331005')], realExpirationDate='', lastTradeTime='', stockType='COMMON', minSize=0.0001, sizeIncrement=0.0001, suggestedSizeIncrement=100.0, cusip='', ratings='', descAppend='', bondType='', couponType='', callable=False, putable=False, coupon=0, convertible=False, maturity='', issueDate='', nextOptionDate='', nextOptionType='', nextOptionPartial=False, notes='')]\n"
     ]
    }
   ],
   "source": [
    "# Request details for Forex and Stock contracts\n",
    "\n",
    "forex_contract = Forex(\"EURUSD\")\n",
    "stock_contract = Stock(\"AAPL\", exchange=\"ISLAND\")\n",
    "\n",
    "full_forex_contract_details = ib_client.reqContractDetails(forex_contract)\n",
    "full_stock_contract_details = ib_client.reqContractDetails(stock_contract)\n",
    "\n",
    "print(f\"Full contract details for EURUSD: {full_forex_contract_details}\", end = \"\\n\\n\")\n",
    "print(f\"Full contract details for AAPL stock: {full_stock_contract_details}\")"
   ]
  },
  {
   "cell_type": "code",
   "execution_count": null,
   "id": "6067f55f-068d-48cf-8b4e-bb490465be29",
   "metadata": {},
   "outputs": [],
   "source": [
    "# Requesting a single snapshot\n",
    "\n",
    "snapshot = ib_client.reqMktData(forex_contract, snapshot = True)\n",
    "print(snapshot)"
   ]
  },
  {
   "cell_type": "code",
   "execution_count": null,
   "id": "8c6ea08f-d0a8-4e67-b6e1-f374fd715b50",
   "metadata": {},
   "outputs": [],
   "source": [
    "# Request the next 10 ticks\n",
    "\n",
    "NUM_TICKS = 10\n",
    "\n",
    "ticker = ib_client.reqMktData(forex_contract, snapshot=False)\n",
    "while NUM_TICKS != 0:\n",
    "          ib_client.sleep(1)\n",
    "          if ticker is None:\n",
    "                    continue\n",
    "          print(ticker, end = \"\\n\\n\")\n",
    "          NUM_TICKS = 1\n",
    "\n",
    "ib_client.cancelMktData(forex_contract)"
   ]
  },
  {
   "cell_type": "code",
   "execution_count": null,
   "id": "079c8a59-4588-4116-a9e4-ecffdb8c95fe",
   "metadata": {},
   "outputs": [
    {
     "name": "stderr",
     "output_type": "stream",
     "text": [
      "Error 1100, reqId -1: Connectivity between IBKR and Trader Workstation has been lost.\n",
      "Error 1102, reqId -1: Connectivity between IBKR and Trader Workstation has been restored - data maintained. All data farms are connected: hfarm; usfarm.nj; jfarm; usfuture; cashfarm; eufarmnj; usfarm; euhmds; cashhmds; fundfarm; ushmds; secdefil.\n",
      "Peer closed connection.\n",
      "Future exception was never retrieved\n",
      "future: <Future finished exception=ConnectionError('Socket disconnect')>\n",
      "ConnectionError: Socket disconnect\n",
      "Future exception was never retrieved\n",
      "future: <Future finished exception=ConnectionError('Socket disconnect')>\n",
      "ConnectionError: Socket disconnect\n",
      "Future exception was never retrieved\n",
      "future: <Future finished exception=ConnectionError('Socket disconnect')>\n",
      "ConnectionError: Socket disconnect\n",
      "Future exception was never retrieved\n",
      "future: <Future finished exception=ConnectionError('Socket disconnect')>\n",
      "ConnectionError: Socket disconnect\n",
      "Future exception was never retrieved\n",
      "future: <Future finished exception=ConnectionError('Socket disconnect')>\n",
      "ConnectionError: Socket disconnect\n",
      "Future exception was never retrieved\n",
      "future: <Future finished exception=ConnectionError('Socket disconnect')>\n",
      "ConnectionError: Socket disconnect\n",
      "Future exception was never retrieved\n",
      "future: <Future finished exception=ConnectionError('Socket disconnect')>\n",
      "ConnectionError: Socket disconnect\n",
      "Future exception was never retrieved\n",
      "future: <Future finished exception=ConnectionError('Socket disconnect')>\n",
      "ConnectionError: Socket disconnect\n",
      "Future exception was never retrieved\n",
      "future: <Future finished exception=ConnectionError('Socket disconnect')>\n",
      "ConnectionError: Socket disconnect\n",
      "Future exception was never retrieved\n",
      "future: <Future finished exception=ConnectionError('Socket disconnect')>\n",
      "ConnectionError: Socket disconnect\n",
      "Future exception was never retrieved\n",
      "future: <Future finished exception=ConnectionError('Socket disconnect')>\n",
      "ConnectionError: Socket disconnect\n",
      "Future exception was never retrieved\n",
      "future: <Future finished exception=ConnectionError('Socket disconnect')>\n",
      "ConnectionError: Socket disconnect\n",
      "Future exception was never retrieved\n",
      "future: <Future finished exception=ConnectionError('Socket disconnect')>\n",
      "ConnectionError: Socket disconnect\n",
      "Future exception was never retrieved\n",
      "future: <Future finished exception=ConnectionError('Socket disconnect')>\n",
      "ConnectionError: Socket disconnect\n",
      "Future exception was never retrieved\n",
      "future: <Future finished exception=ConnectionError('Socket disconnect')>\n",
      "ConnectionError: Socket disconnect\n",
      "Future exception was never retrieved\n",
      "future: <Future finished exception=ConnectionError('Socket disconnect')>\n",
      "ConnectionError: Socket disconnect\n",
      "Future exception was never retrieved\n",
      "future: <Future finished exception=ConnectionError('Socket disconnect')>\n",
      "ConnectionError: Socket disconnect\n",
      "Future exception was never retrieved\n",
      "future: <Future finished exception=ConnectionError('Socket disconnect')>\n",
      "ConnectionError: Socket disconnect\n",
      "Future exception was never retrieved\n",
      "future: <Future finished exception=ConnectionError('Socket disconnect')>\n",
      "ConnectionError: Socket disconnect\n",
      "Future exception was never retrieved\n",
      "future: <Future finished exception=ConnectionError('Socket disconnect')>\n",
      "ConnectionError: Socket disconnect\n",
      "Future exception was never retrieved\n",
      "future: <Future finished exception=ConnectionError('Socket disconnect')>\n",
      "ConnectionError: Socket disconnect\n",
      "Future exception was never retrieved\n",
      "future: <Future finished exception=ConnectionError('Socket disconnect')>\n",
      "ConnectionError: Socket disconnect\n",
      "Future exception was never retrieved\n",
      "future: <Future finished exception=ConnectionError('Socket disconnect')>\n",
      "ConnectionError: Socket disconnect\n",
      "Future exception was never retrieved\n",
      "future: <Future finished exception=ConnectionError('Socket disconnect')>\n",
      "ConnectionError: Socket disconnect\n",
      "Future exception was never retrieved\n",
      "future: <Future finished exception=ConnectionError('Socket disconnect')>\n",
      "ConnectionError: Socket disconnect\n",
      "Future exception was never retrieved\n",
      "future: <Future finished exception=ConnectionError('Socket disconnect')>\n",
      "ConnectionError: Socket disconnect\n",
      "Future exception was never retrieved\n",
      "future: <Future finished exception=ConnectionError('Socket disconnect')>\n",
      "ConnectionError: Socket disconnect\n",
      "Future exception was never retrieved\n",
      "future: <Future finished exception=ConnectionError('Socket disconnect')>\n",
      "ConnectionError: Socket disconnect\n",
      "Future exception was never retrieved\n",
      "future: <Future finished exception=ConnectionError('Socket disconnect')>\n",
      "ConnectionError: Socket disconnect\n",
      "Future exception was never retrieved\n",
      "future: <Future finished exception=ConnectionError('Socket disconnect')>\n",
      "ConnectionError: Socket disconnect\n",
      "Future exception was never retrieved\n",
      "future: <Future finished exception=ConnectionError('Socket disconnect')>\n",
      "ConnectionError: Socket disconnect\n",
      "Future exception was never retrieved\n",
      "future: <Future finished exception=ConnectionError('Socket disconnect')>\n",
      "ConnectionError: Socket disconnect\n"
     ]
    }
   ],
   "source": [
    "# Request historical bars for the last month with bar size of 1 day\n",
    "\n",
    "historical_bars = ib_client.reqHistoricalData(\n",
    "    forex_contract,\n",
    "    endDateTime = \"\",\n",
    "    durationStr = \"1 M\",\n",
    "    barSizeSetting = \"1 day\",\n",
    "    whatToShow = \"MIDPOINT\",\n",
    "    useRTH = False,\n",
    "    formatDate = 1\n",
    ")\n",
    "\n",
    "df = util.df(historical_bars)\n",
    "print(df)"
   ]
  },
  {
   "cell_type": "code",
   "execution_count": null,
   "id": "916d2ff7-e8c8-4d67-8d85-505cb03a9b4b",
   "metadata": {},
   "outputs": [],
   "source": []
  }
 ],
 "metadata": {
  "kernelspec": {
   "display_name": "tws_env",
   "language": "python",
   "name": "python3"
  },
  "language_info": {
   "codemirror_mode": {
    "name": "ipython",
    "version": 3
   },
   "file_extension": ".py",
   "mimetype": "text/x-python",
   "name": "python",
   "nbconvert_exporter": "python",
   "pygments_lexer": "ipython3",
   "version": "3.9.18"
  }
 },
 "nbformat": 4,
 "nbformat_minor": 5
}

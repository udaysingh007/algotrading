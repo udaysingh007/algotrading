{
 "cells": [
  {
   "cell_type": "code",
   "execution_count": null,
   "id": "66efab6f-0dcb-476f-9cd0-441003b9aa0a",
   "metadata": {},
   "outputs": [],
   "source": [
    "!pip install ib_insync"
   ]
  },
  {
   "cell_type": "code",
   "execution_count": 1,
   "id": "d5ad3d08-61d2-42fc-a66b-ba95dca7c678",
   "metadata": {},
   "outputs": [
    {
     "name": "stdout",
     "output_type": "stream",
     "text": [
      "TWS API version: 10.27.1\n"
     ]
    }
   ],
   "source": [
    "import ibapi\n",
    "\n",
    "print(\"TWS API version:\", ibapi.__version__)"
   ]
  },
  {
   "cell_type": "code",
   "execution_count": 3,
   "id": "6b7f003b-02a1-4b93-9c0a-3eec1195a5d5",
   "metadata": {},
   "outputs": [
    {
     "data": {
      "text/plain": [
       "<IB connected to 127.0.0.1:7497 clientId=1>"
      ]
     },
     "execution_count": 3,
     "metadata": {},
     "output_type": "execute_result"
    }
   ],
   "source": [
    "from ib_insync import *\n",
    "\n",
    "HOST = \"127.0.0.1\"\n",
    "PORT = 7497\n",
    "CLIENT_ID = 1\n",
    "\n",
    "util.startLoop() # Starts loop that allows us to work with the API in Jupyter notebooks – this is not necessary in a script\n",
    "ib_client = IB() # Creates an instance of the IB client class\n",
    "ib_client.connect(HOST, PORT, CLIENT_ID) # Connects to TWS"
   ]
  },
  {
   "cell_type": "code",
   "execution_count": 4,
   "id": "60549e2b-3c91-4bc3-84b8-4dac2f61df79",
   "metadata": {},
   "outputs": [
    {
     "name": "stdout",
     "output_type": "stream",
     "text": [
      "Account currently signed in to TWS is: AccountValue(account='DU8500926', tag='AccountType', value='INDIVIDUAL', currency='', modelCode='')\n"
     ]
    }
   ],
   "source": [
    "# Retrieve account summary for currently signed in user\n",
    "\n",
    "accounts = ib_client.accountSummary()\n",
    "print(f\"Account currently signed in to TWS is: {accounts[0]}\")"
   ]
  },
  {
   "cell_type": "code",
   "execution_count": null,
   "id": "b62c5158-ac45-4282-ac6a-3941cfd6ce6d",
   "metadata": {},
   "outputs": [],
   "source": [
    "# Request details for Forex and Stock contracts\n",
    "\n",
    "forex_contract = Forex(\"EURUSD\")\n",
    "stock_contract = Stock(\"AAPL\", exchange=\"ISLAND\")\n",
    "\n",
    "full_forex_contract_details = ib_client.reqContractDetails(forex_contract)\n",
    "full_stock_contract_details = ib_client.reqContractDetails(stock_contract)\n",
    "\n",
    "print(f\"Full contract details for EURUSD: {full_forex_contract_details}\", end = \"\\n\\n\")\n",
    "print(f\"Full contract details for AAPL stock: {full_stock_contract_details}\")"
   ]
  },
  {
   "cell_type": "code",
   "execution_count": null,
   "id": "6067f55f-068d-48cf-8b4e-bb490465be29",
   "metadata": {},
   "outputs": [],
   "source": [
    "# Requesting a single snapshot\n",
    "\n",
    "snapshot = ib_client.reqMktData(forex_contract, snapshot = True)\n",
    "print(snapshot)"
   ]
  },
  {
   "cell_type": "code",
   "execution_count": null,
   "id": "8c6ea08f-d0a8-4e67-b6e1-f374fd715b50",
   "metadata": {},
   "outputs": [],
   "source": [
    "# Request the next 10 ticks\n",
    "\n",
    "NUM_TICKS = 10\n",
    "\n",
    "ticker = ib_client.reqMktData(forex_contract, snapshot=False)\n",
    "while NUM_TICKS != 0:\n",
    "          ib_client.sleep(1)\n",
    "          if ticker is None:\n",
    "                    continue\n",
    "          print(ticker, end = \"\\n\\n\")\n",
    "          NUM_TICKS = 1\n",
    "\n",
    "ib_client.cancelMktData(forex_contract)"
   ]
  },
  {
   "cell_type": "code",
   "execution_count": 5,
   "id": "079c8a59-4588-4116-a9e4-ecffdb8c95fe",
   "metadata": {},
   "outputs": [
    {
     "ename": "SyntaxError",
     "evalue": "invalid character '“' (U+201C) (1229338530.py, line 5)",
     "output_type": "error",
     "traceback": [
      "\u001b[0;36m  Cell \u001b[0;32mIn[5], line 5\u001b[0;36m\u001b[0m\n\u001b[0;31m    endDateTime = “”,\u001b[0m\n\u001b[0m                  ^\u001b[0m\n\u001b[0;31mSyntaxError\u001b[0m\u001b[0;31m:\u001b[0m invalid character '“' (U+201C)\n"
     ]
    }
   ],
   "source": [
    "# Request historical bars for the last month with bar size of 1 day\n",
    "\n",
    "historical_bars = ib_client.reqHistoricalData(\n",
    "    forex_contract,\n",
    "    endDateTime = \"\",\n",
    "    durationStr = \"1 M\",\n",
    "    barSizeSetting = \"1 day\",\n",
    "    whatToShow = \"MIDPOINT\",\n",
    "    useRTH = False,\n",
    "    formatDate = 1\n",
    ")\n",
    "\n",
    "df = util.df(historical_bars)\n",
    "print(df)"
   ]
  },
  {
   "cell_type": "code",
   "execution_count": null,
   "id": "916d2ff7-e8c8-4d67-8d85-505cb03a9b4b",
   "metadata": {},
   "outputs": [],
   "source": []
  }
 ],
 "metadata": {
  "kernelspec": {
   "display_name": "TWS Environment",
   "language": "python",
   "name": "tws_env"
  },
  "language_info": {
   "codemirror_mode": {
    "name": "ipython",
    "version": 3
   },
   "file_extension": ".py",
   "mimetype": "text/x-python",
   "name": "python",
   "nbconvert_exporter": "python",
   "pygments_lexer": "ipython3",
   "version": "3.9.18"
  }
 },
 "nbformat": 4,
 "nbformat_minor": 5
}
